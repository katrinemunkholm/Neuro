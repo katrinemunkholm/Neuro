{
 "cells": [
  {
   "cell_type": "code",
   "execution_count": null,
   "metadata": {},
   "outputs": [
    {
     "ename": "",
     "evalue": "",
     "output_type": "error",
     "traceback": [
      "\u001b[1;31mFailed to start the Kernel. \n",
      "\u001b[1;31mspawn /conda ENOENT. \n",
      "\u001b[1;31mView Jupyter <a href='command:jupyter.viewOutput'>log</a> for further details."
     ]
    }
   ],
   "source": [
    "# Load in packages\n",
    "## From FaceWord, ICA, stats\n",
    "import pip\n",
    "%pip install mne\n",
    "!python -m pip install mne\n",
    "import mne\n",
    "!python -m pip install pandas\n",
    "import pandas as pd\n",
    "import numpy as np\n",
    "import os\n",
    "import matplotlib.pyplot as plt\n",
    "%matplotlib inline\n",
    "os.system('python -m pip install scikit-learn')\n",
    "from scipy import stats as st\n",
    "import statistics as stats\n",
    "from mpl_toolkits.axes_grid1 import make_axes_locatable\n",
    "!pip install scikit-learn\n",
    "import sklearn # scikit-learn is needed to run ICA (Independent Component Analysis)\n",
    "from scipy import stats\n",
    "!pip install scikit-posthocs\n",
    "import scikit_posthocs as sp"
   ]
  },
  {
   "cell_type": "code",
   "execution_count": null,
   "metadata": {},
   "outputs": [
    {
     "ename": "",
     "evalue": "",
     "output_type": "error",
     "traceback": [
      "\u001b[1;31mFailed to start the Kernel. \n",
      "\u001b[1;31mspawn /conda ENOENT. \n",
      "\u001b[1;31mView Jupyter <a href='command:jupyter.viewOutput'>log</a> for further details."
     ]
    }
   ],
   "source": [
    "# Loading the data\n",
    "file_path = \"/Users/patrikmolnar/Downloads/own_group10.vhdr\"\n",
    "raw = mne.io.read_raw_brainvision(file_path,eog=('EOG1', 'EOG2'))\n",
    "raw.load_data()"
   ]
  },
  {
   "cell_type": "code",
   "execution_count": null,
   "metadata": {},
   "outputs": [
    {
     "ename": "",
     "evalue": "",
     "output_type": "error",
     "traceback": [
      "\u001b[1;31mFailed to start the Kernel. \n",
      "\u001b[1;31mspawn /conda ENOENT. \n",
      "\u001b[1;31mView Jupyter <a href='command:jupyter.viewOutput'>log</a> for further details."
     ]
    }
   ],
   "source": [
    "# Specify electrode locations\n",
    "montage = mne.channels.make_standard_montage('standard_1020')\n",
    "raw.set_montage(montage, verbose=False)"
   ]
  },
  {
   "cell_type": "code",
   "execution_count": null,
   "metadata": {},
   "outputs": [
    {
     "ename": "",
     "evalue": "",
     "output_type": "error",
     "traceback": [
      "\u001b[1;31mFailed to start the Kernel. \n",
      "\u001b[1;31mspawn /conda ENOENT. \n",
      "\u001b[1;31mView Jupyter <a href='command:jupyter.viewOutput'>log</a> for further details."
     ]
    }
   ],
   "source": [
    "# Electrode layout\n",
    "layout_from_raw = mne.channels.make_eeg_layout(raw.info)\n",
    "layout_from_raw.plot();"
   ]
  },
  {
   "cell_type": "code",
   "execution_count": null,
   "metadata": {},
   "outputs": [
    {
     "ename": "",
     "evalue": "",
     "output_type": "error",
     "traceback": [
      "\u001b[1;31mFailed to start the Kernel. \n",
      "\u001b[1;31mspawn /conda ENOENT. \n",
      "\u001b[1;31mView Jupyter <a href='command:jupyter.viewOutput'>log</a> for further details."
     ]
    }
   ],
   "source": [
    "#Channel types\n",
    "chans = mne.pick_types(raw.info, meg=False, eeg=True, eog=True)\n",
    "chan_types = [mne.io.pick.channel_type(raw.info, ch) for ch in chans]\n",
    "chan_names = raw.info['ch_names']\n",
    "print('Channels are of type')\n",
    "print(*('{}: {}'.format(ch, typ) for ch, typ in zip(chan_names, chan_types)), sep='\\n')\n",
    "\n",
    "\n"
   ]
  },
  {
   "cell_type": "code",
   "execution_count": null,
   "metadata": {},
   "outputs": [
    {
     "ename": "",
     "evalue": "",
     "output_type": "error",
     "traceback": [
      "\u001b[1;31mFailed to start the Kernel. \n",
      "\u001b[1;31mspawn /conda ENOENT. \n",
      "\u001b[1;31mView Jupyter <a href='command:jupyter.viewOutput'>log</a> for further details."
     ]
    }
   ],
   "source": [
    "# Plotting raw data from only EEG and stimulus data \n",
    "raw.pick_types(meg=False, eeg=True, eog=True, stim=True, exclude=[])\n",
    "raw.plot(scalings=dict(eeg=20e-5));\n",
    "\n",
    "# Plotting raw data without eog\n",
    "raw.pick_types(meg=False, eeg=True, stim=True, exclude=[])\n",
    "raw.plot(); # the ; at the end of the line suppresses the output (if not used, the plot will be displayed twice)\n",
    "\n",
    "# Building the plot\n",
    "## Plotting all EEG channels simultaneously\n",
    "raw.plot(n_channels=60);\n",
    "\n",
    "## Plotting a full minute from the recording\n",
    "raw.plot(n_channels=60, duration=60);"
   ]
  },
  {
   "cell_type": "code",
   "execution_count": null,
   "metadata": {},
   "outputs": [
    {
     "ename": "",
     "evalue": "",
     "output_type": "error",
     "traceback": [
      "\u001b[1;31mFailed to start the Kernel. \n",
      "\u001b[1;31mspawn /conda ENOENT. \n",
      "\u001b[1;31mView Jupyter <a href='command:jupyter.viewOutput'>log</a> for further details."
     ]
    }
   ],
   "source": [
    "#List and exclude the bad channels\n",
    "raw.info['bads'] = ['T8']\n",
    "raw.plot(n_channels=60);\n",
    "\n",
    "# Remove/exclude bad channels\n",
    "raw.pick_types(meg=False, eeg=True, stim=True, exclude='bads')\n",
    "raw.plot(n_channels=60);"
   ]
  },
  {
   "cell_type": "code",
   "execution_count": null,
   "metadata": {},
   "outputs": [
    {
     "ename": "",
     "evalue": "",
     "output_type": "error",
     "traceback": [
      "\u001b[1;31mFailed to start the Kernel. \n",
      "\u001b[1;31mspawn /conda ENOENT. \n",
      "\u001b[1;31mView Jupyter <a href='command:jupyter.viewOutput'>log</a> for further details."
     ]
    }
   ],
   "source": [
    "# Setting the average reference and plot\n",
    "raw.set_eeg_reference(ref_channels='average', ch_type='eeg')\n",
    "\n",
    "#high-pass filter\n",
    "raw= raw.filter(0.1, None)\n",
    "\n",
    "# low-pass\n",
    "raw = raw.filter(None, 40)\n",
    "\n",
    "raw.plot(n_channels=60);"
   ]
  },
  {
   "cell_type": "code",
   "execution_count": null,
   "metadata": {},
   "outputs": [
    {
     "ename": "",
     "evalue": "",
     "output_type": "error",
     "traceback": [
      "\u001b[1;31mFailed to start the Kernel. \n",
      "\u001b[1;31mspawn /conda ENOENT. \n",
      "\u001b[1;31mView Jupyter <a href='command:jupyter.viewOutput'>log</a> for further details."
     ]
    }
   ],
   "source": [
    "# Set up and fit ICA with mne.preprocessing.ICA() \n",
    "\n",
    "## n_components=0.95 ensures that the number of components selected explain at least 95% of the variance in the data\n",
    "\n",
    "ica = mne.preprocessing.ICA(n_components=0.95, random_state=7, max_iter=800)\n",
    "ica.fit(raw)"
   ]
  },
  {
   "cell_type": "code",
   "execution_count": null,
   "metadata": {},
   "outputs": [
    {
     "ename": "",
     "evalue": "",
     "output_type": "error",
     "traceback": [
      "\u001b[1;31mFailed to start the Kernel. \n",
      "\u001b[1;31mspawn /conda ENOENT. \n",
      "\u001b[1;31mView Jupyter <a href='command:jupyter.viewOutput'>log</a> for further details."
     ]
    }
   ],
   "source": [
    "# Plotting ICA components\n",
    "\n",
    "ica.plot_components();"
   ]
  },
  {
   "cell_type": "code",
   "execution_count": null,
   "metadata": {},
   "outputs": [
    {
     "ename": "",
     "evalue": "",
     "output_type": "error",
     "traceback": [
      "\u001b[1;31mFailed to start the Kernel. \n",
      "\u001b[1;31mspawn /conda ENOENT. \n",
      "\u001b[1;31mView Jupyter <a href='command:jupyter.viewOutput'>log</a> for further details."
     ]
    }
   ],
   "source": [
    "#Plotting ICA component time sources\n",
    "ica.plot_sources(raw);\n",
    "\n",
    "# blinks\n",
    "ica.plot_overlay(raw, exclude=[0], picks=\"eeg\");\n",
    "# blinks\n",
    "ica.plot_overlay(raw, exclude=[1], picks=\"eeg\");"
   ]
  },
  {
   "cell_type": "code",
   "execution_count": null,
   "metadata": {},
   "outputs": [
    {
     "ename": "",
     "evalue": "",
     "output_type": "error",
     "traceback": [
      "\u001b[1;31mFailed to start the Kernel. \n",
      "\u001b[1;31mspawn /conda ENOENT. \n",
      "\u001b[1;31mView Jupyter <a href='command:jupyter.viewOutput'>log</a> for further details."
     ]
    }
   ],
   "source": [
    "# Exclude eye noise and apply ICA\n",
    "\n",
    "ica.exclude = [0, 1] # setting the exclude argument to the noise components\n",
    "ica.plot_properties(raw, picks=ica.exclude); # plotting the components that will be excluded (sanity check, did we index the right ones?)"
   ]
  },
  {
   "cell_type": "code",
   "execution_count": null,
   "metadata": {},
   "outputs": [
    {
     "ename": "",
     "evalue": "",
     "output_type": "error",
     "traceback": [
      "\u001b[1;31mFailed to start the Kernel. \n",
      "\u001b[1;31mspawn /conda ENOENT. \n",
      "\u001b[1;31mView Jupyter <a href='command:jupyter.viewOutput'>log</a> for further details."
     ]
    }
   ],
   "source": [
    "# Creating new data\n",
    "raw_clean = ica.apply(raw.copy(), exclude=ica.exclude)\n",
    "\n",
    "# Visualize the cleaned data\n",
    "raw_clean.plot(n_channels=60);\n",
    "\n",
    "\n"
   ]
  },
  {
   "cell_type": "code",
   "execution_count": null,
   "metadata": {},
   "outputs": [
    {
     "ename": "",
     "evalue": "",
     "output_type": "error",
     "traceback": [
      "\u001b[1;31mFailed to start the Kernel. \n",
      "\u001b[1;31mspawn /conda ENOENT. \n",
      "\u001b[1;31mView Jupyter <a href='command:jupyter.viewOutput'>log</a> for further details."
     ]
    }
   ],
   "source": [
    "#Data processing\n",
    "raw_clean = raw_clean.filter(0.1, None)\n",
    "\n",
    "# low-pass\n",
    "raw_clean = raw_clean.filter(None, 40)\n",
    "#rejecting non-brain activity\n",
    "reject = {'eeg': 150e-6}\n",
    "## For us, an \"event\" should be the presentation of a new stimuli, categorized as one of four levels\n",
    "events = mne.events_from_annotations(raw_clean)[0]\n",
    "events[:, 2]\n",
    "## **Create a dictionary of what each event ID represents.**\n",
    "### By using '/' we can actually later index one dimension *across* the other, i.e. if we just write 'left' we get all events presented to the left side, both auditory and visual\n",
    "event_id = {'objects':11,\n",
    "            'faces': 21,\n",
    "            'pareidolias': 31,\n",
    "            'uknown':100,\n",
    "            'unknow':200\n",
    "           }\n",
    "\n",
    "tmin=-0.2 \n",
    "\n",
    "tmax = 0.5\n",
    "\n",
    "picks = mne.pick_types(raw_clean.info, meg=False, eeg=True, eog=False)\n",
    "\n",
    "epochs = mne.Epochs(raw_clean, events, event_id, tmin, tmax, picks=picks,\n",
    "                    baseline=(None, 0), reject=reject, preload=True)\n",
    "\n",
    "epochs_resampled = epochs.resample(250)\n",
    "\n",
    "#obj = epochs['objects']\n",
    "#faces = epochs['faces']\n",
    "#par = epochs['pareidolias']\n",
    "\n",
    "\n",
    "#face_epochs = epochs_resampled['faces']\n",
    "#obj_epochs = epochs_resampled['objects']\n",
    "#par_epochs = epochs_resampled['pareidolias']\n",
    "\n",
    "obj = epochs_resampled['objects']\n",
    "faces = epochs_resampled['faces']\n",
    "par = epochs_resampled['pareidolias']\n",
    "\n",
    "par_evoked = par.average()\n",
    "\n",
    "faces_evoked = faces.average()\n",
    "\n",
    "obj_evoked = obj.average()\n",
    "\n",
    "\n",
    "mne.viz.plot_events(events, sfreq=250, first_samp=raw_clean.first_samp, event_id=event_id);\n",
    "\n",
    "#Joint Butterfly\n",
    "par_evoked.plot_joint(picks='eeg');\n",
    "faces_evoked.plot_joint(picks='eeg');\n",
    "obj_evoked.plot_joint(picks='eeg');\n",
    "\n",
    "#Topography\n",
    "obj_evoked.plot_topomap();\n",
    "par_evoked.plot_topomap();\n",
    "faces_evoked.plot_topomap();\n",
    "\n",
    "#visualization\n",
    "raw_clean.plot_sensors(ch_type='eeg', show_names=True); # show_names=True shows the channel names\n",
    "raw_clean.plot_sensors(kind='3d', ch_type='eeg'); # for a 3D view"
   ]
  },
  {
   "cell_type": "code",
   "execution_count": null,
   "metadata": {},
   "outputs": [
    {
     "ename": "",
     "evalue": "",
     "output_type": "error",
     "traceback": [
      "\u001b[1;31mFailed to start the Kernel. \n",
      "\u001b[1;31mspawn /conda ENOENT. \n",
      "\u001b[1;31mView Jupyter <a href='command:jupyter.viewOutput'>log</a> for further details."
     ]
    }
   ],
   "source": [
    "#Analysis of N170\n",
    "obj_data = obj.get_data(picks=['P3', 'P4', 'P7', 'P8'], tmin=.14, tmax=.22)\n",
    "#print(obj_data)\n",
    "\n",
    "faces_data = faces.get_data(picks=['P3', 'P4', 'P7', 'P8'], tmin=.14, tmax=.22)\n",
    "#print(faces_data)\n",
    "\n",
    "par_data = par.get_data(picks=['P3', 'P4', 'P7', 'P8'], tmin=.14, tmax=.22)\n",
    "#print(par_data)\n",
    "\n",
    "# Objects\n",
    "obj_data_mean = np.mean(obj_data, axis=2) \n",
    "obj_data_mean = np.mean(obj_data_mean, axis=1) \n",
    "\n",
    "\n",
    "# Faces\n",
    "faces_data_mean = np.mean(faces_data, axis=2)\n",
    "faces_data_mean = np.mean(faces_data_mean, axis=1)\n",
    "\n",
    "\n",
    "# Pareidolias\n",
    "par_data_mean = np.mean(par_data, axis=2)\n",
    "par_data_mean = np.mean(par_data_mean, axis=1)\n",
    "\n",
    "# Normality testing\n",
    "\n",
    "##Faces\n",
    "ks_test = stats.kstest(faces_data_mean,'norm')\n",
    "ks_test_statistic, ks_test_pvalue = ks_test\n",
    "print(f\"KS test statistic: {ks_test_statistic}, p-value: {ks_test_pvalue}\")\n",
    "\n",
    "##Parreidolias\n",
    "ks_test = stats.kstest(par_data_mean, 'norm')\n",
    "ks_test_statistic, ks_test_pvalue = ks_test\n",
    "print(f\"KS test statistic: {ks_test_statistic}, p-value: {ks_test_pvalue}\")\n",
    "\n",
    "##Objects\n",
    "ks_test = stats.kstest(obj_data_mean, 'norm')\n",
    "ks_test_statistic, ks_test_pvalue = ks_test\n",
    "print(f\"KS test statistic: {ks_test_statistic}, p-value: {ks_test_pvalue}\")\n",
    "\n",
    "\n",
    "\n",
    "\n",
    "\n",
    "\n",
    "\n",
    "# One-way (#ANOVA) t-test between the 2(3) means.\n",
    "\n",
    "#st.f_oneway(faces_data_mean, par_data_mean, obj_data_mean)\n",
    "#st.ttest_ind(faces_data_mean, obj_data_mean)\n",
    "\n",
    "#t_stat, p_value = stats.ttest_ind(faces_data_mean, par_data_mean)\n",
    "\n",
    "# Define the number of tests conducted\n",
    "#num_tests = 2  # In this case, you have performed two independent t-tests\n",
    "\n",
    "# Apply Bonferroni correction to the p-value\n",
    "#corrected_p_value = p_value * num_tests\n",
    "\n",
    "\n",
    "# Print the original and corrected p-values\n",
    "#print(t_stat)\n",
    "#print(\"Original p-value:\", p_value)\n",
    "#print(\"Corrected p-value (Bonferroni):\", corrected_p_value)\n",
    "\n",
    "# Mann-Whitney U Test\n",
    "U_stat, p_value = stats.mannwhitneyu(faces_data_mean, par_data_mean)\n",
    "\n",
    "print('Mann-Whitney U test result:')\n",
    "print(f'U-statistic: {U_stat}')\n",
    "print(f'p-value: {p_value}')\n",
    "\n",
    "U_stat, p_value = stats.mannwhitneyu(obj_data_mean, par_data_mean)\n",
    "\n",
    "print('Mann-Whitney U test result:')\n",
    "print(f'U-statistic: {U_stat}')\n",
    "print(f'p-value: {p_value}')\n",
    "\n",
    "mne.viz.plot_compare_evokeds(dict(obj=obj_evoked, faces=faces_evoked,par=par_evoked),\n",
    "                             legend='upper left', show_sensors='upper right', picks=['P3', 'P4','P7','P8'])"
   ]
  },
  {
   "cell_type": "code",
   "execution_count": null,
   "metadata": {},
   "outputs": [
    {
     "ename": "",
     "evalue": "",
     "output_type": "error",
     "traceback": [
      "\u001b[1;31mFailed to start the Kernel. \n",
      "\u001b[1;31mspawn /conda ENOENT. \n",
      "\u001b[1;31mView Jupyter <a href='command:jupyter.viewOutput'>log</a> for further details."
     ]
    }
   ],
   "source": [
    "# Define the number of comparisons\n",
    "num_comparisons = 2\n",
    "\n",
    "# Mann-Whitney U Test\n",
    "U_stat, p_value = stats.mannwhitneyu(faces_data_mean, par_data_mean)\n",
    "bonferroni_p_value = p_value * num_comparisons\n",
    "\n",
    "print('Mann-Whitney U test result:')\n",
    "print(f'U-statistic: {U_stat}')\n",
    "print(f'p-value: {p_value}')\n",
    "print(f'Bonferroni corrected p-value: {bonferroni_p_value}')\n",
    "\n",
    "U_stat, p_value = stats.mannwhitneyu(obj_data_mean, par_data_mean)\n",
    "bonferroni_p_value = p_value * num_comparisons\n",
    "\n",
    "print('Mann-Whitney U test result:')\n",
    "print(f'U-statistic: {U_stat}')\n",
    "print(f'p-value: {p_value}')\n",
    "print(f'Bonferroni corrected p-value: {bonferroni_p_value}')"
   ]
  },
  {
   "cell_type": "code",
   "execution_count": null,
   "metadata": {},
   "outputs": [
    {
     "ename": "",
     "evalue": "",
     "output_type": "error",
     "traceback": [
      "\u001b[1;31mFailed to start the Kernel. \n",
      "\u001b[1;31mspawn /conda ENOENT. \n",
      "\u001b[1;31mView Jupyter <a href='command:jupyter.viewOutput'>log</a> for further details."
     ]
    }
   ],
   "source": [
    "# Analysis of N250\n",
    "\n",
    "obj_data = obj.get_data(picks=['P7', 'P8'], tmin=.23, tmax=.35)\n",
    "#print(obj_data)\n",
    "\n",
    "faces_data = faces.get_data(picks=['P7', 'P8'], tmin=.23, tmax=.35)\n",
    "#print(faces_data)\n",
    "\n",
    "par_data = par.get_data(picks=['P7', 'P8'], tmin=.23, tmax=.35)\n",
    "#print(par_data)\n",
    "\n",
    "# Averaging over the data\n",
    "\n",
    "# Objects\n",
    "obj_data_mean = np.mean(obj_data, axis=2) \n",
    "obj_data_mean = np.mean(obj_data_mean, axis=1) \n",
    "\n",
    "\n",
    "# Faces\n",
    "faces_data_mean = np.mean(faces_data, axis=2)\n",
    "faces_data_mean = np.mean(faces_data_mean, axis=1)\n",
    "\n",
    "\n",
    "# Pareidolias\n",
    "par_data_mean = np.mean(par_data, axis=2)\n",
    "par_data_mean = np.mean(par_data_mean, axis=1)\n",
    "\n",
    "#t_stat, p_value = stats.ttest_ind(faces_data_mean, par_data_mean)\n",
    "\n",
    "# Define the number of tests conducted\n",
    "#num_tests = 2  # In this case, you have performed two independent t-tests\n",
    "\n",
    "# Apply Bonferroni correction to the p-value\n",
    "#corrected_p_value = p_value * num_tests\n",
    "\n",
    "# Print the original and corrected p-values\n",
    "#print(t_stat)\n",
    "#print(\"Original p-value:\", p_value)\n",
    "#print(\"Corrected p-value (Bonferroni):\", corrected_p_value)\n",
    "# Normality testing\n",
    "\n",
    "##Faces\n",
    "ks_test = stats.kstest(faces_data_mean,'norm')\n",
    "ks_test_statistic, ks_test_pvalue = ks_test\n",
    "print(f\"KS test statistic: {ks_test_statistic}, p-value: {ks_test_pvalue}\")\n",
    "\n",
    "##Parreidolias\n",
    "ks_test = stats.kstest(par_data_mean, 'norm')\n",
    "ks_test_statistic, ks_test_pvalue = ks_test\n",
    "print(f\"KS test statistic: {ks_test_statistic}, p-value: {ks_test_pvalue}\")\n",
    "\n",
    "##Objects\n",
    "ks_test = stats.kstest(obj_data_mean, 'norm')\n",
    "ks_test_statistic, ks_test_pvalue = ks_test\n",
    "print(f\"KS test statistic: {ks_test_statistic}, p-value: {ks_test_pvalue}\")\n",
    "\n",
    "\n",
    "\n",
    "#t_stat, p_value = stats.ttest_ind(faces_data_mean, par_data_mean)\n",
    "\n",
    "# Define the number of tests conducted\n",
    "#num_tests = 2  # In this case, you have performed two independent t-tests\n",
    "\n",
    "# Apply Bonferroni correction to the p-value\n",
    "#corrected_p_value = p_value * num_tests\n",
    "\n",
    "# Print the original and corrected p-values\n",
    "#print(t_stat)\n",
    "#print(\"Original p-value:\", p_value)\n",
    "#print(\"Corrected p-value (Bonferroni):\", corrected_p_value)\n",
    "\n",
    "# Mann-Whitney U Test\n",
    "U_stat, p_value = stats.mannwhitneyu(faces_data_mean, par_data_mean)\n",
    "\n",
    "print('Mann-Whitney U test result:')\n",
    "print(f'U-statistic: {U_stat}')\n",
    "print(f'p-value: {p_value}')\n",
    "\n",
    "U_stat, p_value = stats.mannwhitneyu(obj_data_mean, par_data_mean)\n",
    "\n",
    "print('Mann-Whitney U test result:')\n",
    "print(f'U-statistic: {U_stat}')\n",
    "print(f'p-value: {p_value}')\n",
    "\n",
    "\n",
    "\n",
    "\n",
    "mne.viz.plot_compare_evokeds(dict(obj=obj_evoked, faces=faces_evoked,par=par_evoked ),\n",
    "                             legend='upper left', show_sensors='upper right',picks=['P7', 'P8'])"
   ]
  },
  {
   "cell_type": "code",
   "execution_count": null,
   "metadata": {},
   "outputs": [
    {
     "ename": "",
     "evalue": "",
     "output_type": "error",
     "traceback": [
      "\u001b[1;31mFailed to start the Kernel. \n",
      "\u001b[1;31mspawn /conda ENOENT. \n",
      "\u001b[1;31mView Jupyter <a href='command:jupyter.viewOutput'>log</a> for further details."
     ]
    }
   ],
   "source": [
    "# Define the number of comparisons\n",
    "num_comparisons = 2\n",
    "\n",
    "# Mann-Whitney U Test\n",
    "U_stat, p_value = stats.mannwhitneyu(faces_data_mean, par_data_mean)\n",
    "bonferroni_p_value = p_value * num_comparisons\n",
    "\n",
    "print('Mann-Whitney U test result:')\n",
    "print(f'U-statistic: {U_stat}')\n",
    "print(f'p-value: {p_value}')\n",
    "print(f'Bonferroni corrected p-value: {bonferroni_p_value}')\n",
    "\n",
    "U_stat, p_value = stats.mannwhitneyu(obj_data_mean, par_data_mean)\n",
    "bonferroni_p_value = p_value * num_comparisons\n",
    "\n",
    "print('Mann-Whitney U test result:')\n",
    "print(f'U-statistic: {U_stat}')\n",
    "print(f'p-value: {p_value}')\n",
    "print(f'Bonferroni corrected p-value: {bonferroni_p_value}')"
   ]
  },
  {
   "cell_type": "code",
   "execution_count": null,
   "metadata": {},
   "outputs": [
    {
     "ename": "",
     "evalue": "",
     "output_type": "error",
     "traceback": [
      "\u001b[1;31mFailed to start the Kernel. \n",
      "\u001b[1;31mspawn /conda ENOENT. \n",
      "\u001b[1;31mView Jupyter <a href='command:jupyter.viewOutput'>log</a> for further details."
     ]
    }
   ],
   "source": []
  }
 ],
 "metadata": {
  "kernelspec": {
   "display_name": "Python 3",
   "language": "python",
   "name": "python3"
  },
  "language_info": {
   "name": "python",
   "version": "3.8.15 | packaged by conda-forge | (default, Nov 22 2022, 08:49:06) \n[Clang 14.0.6 ]"
  },
  "orig_nbformat": 4,
  "vscode": {
   "interpreter": {
    "hash": "325bbd4a17979fa6e27057b1e34b5ddf248e62fa0f9fff732f3ac6ced05a3b8a"
   }
  }
 },
 "nbformat": 4,
 "nbformat_minor": 2
}
